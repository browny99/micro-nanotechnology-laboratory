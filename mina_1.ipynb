{
 "cells": [
  {
   "cell_type": "code",
   "execution_count": 16,
   "metadata": {},
   "outputs": [
    {
     "name": "stdout",
     "output_type": "stream",
     "text": [
      "3325.0\n"
     ]
    }
   ],
   "source": [
    "# emitter \n",
    "U_BE = 0.665 #V\n",
    "I_C = 0.005 #A\n",
    "B = 250\n",
    "I_B = I_C / B\n",
    "# transistor resistors for amplifier\n",
    "R_2 = U_BE/(10*I_B)\n",
    "# print R_2 in ohms\n",
    "print(R_2)"
   ]
  },
  {
   "cell_type": "code",
   "execution_count": 12,
   "metadata": {},
   "outputs": [
    {
     "name": "stdout",
     "output_type": "stream",
     "text": [
      "19704.545454545452\n"
     ]
    }
   ],
   "source": [
    "# transistor base voltage\n",
    "U_B = 5 #V\n",
    "R_1 = (U_B - U_BE)/(11*I_B)\n",
    "print(R_1)"
   ]
  },
  {
   "cell_type": "code",
   "execution_count": 20,
   "metadata": {},
   "outputs": [
    {
     "name": "stdout",
     "output_type": "stream",
     "text": [
      "3.7536543182060266e-06\n"
     ]
    }
   ],
   "source": [
    "print (1/(2*3.141592653589*(848)*50))"
   ]
  },
  {
   "cell_type": "code",
   "execution_count": 21,
   "metadata": {},
   "outputs": [
    {
     "name": "stdout",
     "output_type": "stream",
     "text": [
      "0.04999999999999999\n",
      "0.25\n"
     ]
    }
   ],
   "source": [
    "U_RE = 0.15 #V\n",
    "U_E_MAX = 0.1 #V\n",
    "U_RE_MIN = U_RE - U_E_MAX\n",
    "U_RE_MAX = U_RE + U_E_MAX\n",
    "\n",
    "print(U_RE_MIN)\n",
    "print(U_RE_MAX)"
   ]
  },
  {
   "cell_type": "code",
   "execution_count": 24,
   "metadata": {},
   "outputs": [
    {
     "name": "stdout",
     "output_type": "stream",
     "text": [
      "-16.666666666666668\n",
      "0.833333333333333\n",
      "4.166666666666667\n"
     ]
    }
   ],
   "source": [
    "R_C = 800 #ohms\n",
    "R_E = 48 #ohms\n",
    "A_U = -R_C/R_E\n",
    "print(A_U)\n",
    "\n",
    "U_PEAK = 0.1 #V\n",
    "U_OFFSET = 2.5 #V\n",
    "U_AMPLIFIED = U_PEAK * A_U\n",
    "U_OUT_MAX = U_OFFSET + U_AMPLIFIED\n",
    "U_OUT_MIN = U_OFFSET - U_AMPLIFIED\n",
    "\n",
    "print(U_OUT_MAX)\n",
    "print(U_OUT_MIN)"
   ]
  }
 ],
 "metadata": {
  "kernelspec": {
   "display_name": "Python 3.10.4 64-bit",
   "language": "python",
   "name": "python3"
  },
  "language_info": {
   "codemirror_mode": {
    "name": "ipython",
    "version": 3
   },
   "file_extension": ".py",
   "mimetype": "text/x-python",
   "name": "python",
   "nbconvert_exporter": "python",
   "pygments_lexer": "ipython3",
   "version": "3.10.4"
  },
  "orig_nbformat": 4,
  "vscode": {
   "interpreter": {
    "hash": "dc45171c171282d944abc355706c43262bb7776ad27e0cac7f993fefe41d524c"
   }
  }
 },
 "nbformat": 4,
 "nbformat_minor": 2
}
