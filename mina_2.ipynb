{
 "cells": [
  {
   "cell_type": "code",
   "execution_count": 2,
   "metadata": {},
   "outputs": [
    {
     "name": "stdout",
     "output_type": "stream",
     "text": [
      "Current in battery: 71.43 mA\n",
      "Power in battery: 71.43 mW\n",
      "Power out: 50.00 mW\n",
      "Efficiency: 70.00 %\n",
      "Input efficiency: 70.00 %\n",
      "Efficiency is equal to input efficiency: yes\n"
     ]
    }
   ],
   "source": [
    "efficiency = 0.7\n",
    "voltage_battery = 1\n",
    "voltage_out = 5\n",
    "current_out = 0.01\n",
    "\n",
    "# calculate the current in the battery using the efficiency and a step up converter\n",
    "current_battery = current_out * voltage_out / (voltage_battery * efficiency)\n",
    "\n",
    "# calculate battery power and output power\n",
    "power_battery = current_battery * voltage_battery\n",
    "power_out = current_out * voltage_out\n",
    "\n",
    "print(f\"Current in battery: {current_battery * 1000:.2f} mA\")\n",
    "print(f\"Power in battery: {power_battery * 1000:.2f} mW\")\n",
    "print(f\"Power out: {power_out * 1000:.2f} mW\")\n",
    "\n",
    "# calculate efficiency (to double check)\n",
    "efficiency_calc = power_out / power_battery\n",
    "print(\"Efficiency: {:.2f} %\".format(efficiency_calc * 100))\n",
    "print(\"Input efficiency: {:.2f} %\".format(efficiency * 100))\n",
    "\n",
    "print(\"Efficiency is equal to input efficiency: {}\".format(\"yes\" if efficiency == efficiency_calc else \"no\"))\n",
    "\n"
   ]
  }
 ],
 "metadata": {
  "kernelspec": {
   "display_name": "Python 3.10.4 64-bit",
   "language": "python",
   "name": "python3"
  },
  "language_info": {
   "codemirror_mode": {
    "name": "ipython",
    "version": 3
   },
   "file_extension": ".py",
   "mimetype": "text/x-python",
   "name": "python",
   "nbconvert_exporter": "python",
   "pygments_lexer": "ipython3",
   "version": "3.10.4"
  },
  "orig_nbformat": 4,
  "vscode": {
   "interpreter": {
    "hash": "dc45171c171282d944abc355706c43262bb7776ad27e0cac7f993fefe41d524c"
   }
  }
 },
 "nbformat": 4,
 "nbformat_minor": 2
}
