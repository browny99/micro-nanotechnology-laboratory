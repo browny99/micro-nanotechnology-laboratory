{
 "cells": [
  {
   "cell_type": "code",
   "execution_count": 2,
   "metadata": {},
   "outputs": [
    {
     "name": "stdout",
     "output_type": "stream",
     "text": [
      "The difference in potential between the two sides of the junction is 0.907 V.\n"
     ]
    }
   ],
   "source": [
    "import numpy as np\n",
    "\n",
    "k_b = 1.38064852e-23 # Boltzmann constant\n",
    "T = 300 # Temperature in Kelvin\n",
    "e =  1.60217662e-19 # Electron charge\n",
    "NA = 2e17 # Number of acceptors in cm^-3\n",
    "NA = NA * 1e6 # Number of acceptors in m^-3\n",
    "ND = 1e18 # Number of donors in cm^-3\n",
    "ND = ND * 1e6 # Number of donors in m^-3\n",
    "ni = 1.08e10 # Intrinsic carrier concentration in cm^-3\n",
    "ni = ni * 1e6 # Intrinsic carrier concentration in m^-3\n",
    "\n",
    "V_diff = k_b * T / e * np.log(NA * ND / ni**2) # Difference in potential between the two sides of the junction\n",
    "\n",
    "print(\"The difference in potential between the two sides of the junction is %.3f V.\" % V_diff)"
   ]
  },
  {
   "cell_type": "code",
   "execution_count": 3,
   "metadata": {},
   "outputs": [
    {
     "name": "stdout",
     "output_type": "stream",
     "text": [
      "The expansion of the space charge region is 84.239 nm.\n"
     ]
    }
   ],
   "source": [
    "epsilon_0 = 8.85418782e-12 # Permittivity of free space\n",
    "epsilon_r_si = 11.8 # Relative permittivity of silicon\n",
    "\n",
    "omega = np.sqrt(2 * epsilon_0 * epsilon_r_si / e *(V_diff) * (1/NA + 1/ND)) # Expansion of the space charge region\n",
    "\n",
    "print(\"The expansion of the space charge region is %.3f nm.\" % (omega * 1e9))"
   ]
  },
  {
   "cell_type": "code",
   "execution_count": 4,
   "metadata": {},
   "outputs": [
    {
     "name": "stdout",
     "output_type": "stream",
     "text": [
      "The surface potential at strong inversion is 0.865 V.\n",
      "The surface potential at weak inversion is 0.433 V.\n",
      "The work function of the metal-semiconductor junction is -0.523 V.\n",
      "The capacitance of the insulator is 3.453 mF.\n",
      "The threshold voltage is 1.040 V.\n",
      "The width of the space charge region is 75.115 nm.\n"
     ]
    }
   ],
   "source": [
    "V_T = k_b * T / e # Thermal voltage\n",
    "\n",
    "phi_s_st_inv = 2 * V_T * np.log(NA / ni) # Surface potential at strong inversion\n",
    "print(\"The surface potential at strong inversion is %.3f V.\" % phi_s_st_inv)\n",
    "\n",
    "chi_s = 4.05 # Electron affinity of silicon\n",
    "W_G_si = 1.08 # Band gap of silicon in eV\n",
    "W_G_si = W_G_si * e # Band gap of silicon in J\n",
    "phi_m = 4.5 # work function of the metal\n",
    "phi_s_w_inv = phi_s_st_inv / 2 # Surface potential at weak inversion\n",
    "print(\"The surface potential at weak inversion is %.3f V.\" % phi_s_w_inv)\n",
    "phi_sc = chi_s + (W_G_si/(2*e)) + phi_s_w_inv # work function of the semiconductor\n",
    "\n",
    "phi_msc = phi_m - phi_sc # work function of the metal-semiconductor junction\n",
    "print(\"The work function of the metal-semiconductor junction is %.3f V.\" % phi_msc)\n",
    "\n",
    "epsilon_r_is = 3.9 # Relative permittivity of insulator\n",
    "d_is = 10 # Thickness of the insulator in nm\n",
    "d_is = d_is * 1e-9 # Thickness of the insulator in m\n",
    "\n",
    "C_is = epsilon_0 * epsilon_r_is / d_is # Capacitance of the insulator in F/m^2\n",
    "print(\"The capacitance of the insulator is %.3f mF.\" % (C_is * 1e3))\n",
    "\n",
    "V_th = phi_msc + phi_s_st_inv + (np.sqrt(2 * e * epsilon_0 * epsilon_r_si * NA * phi_s_st_inv) / C_is) # Threshold voltage\n",
    "print(\"The threshold voltage is %.3f V.\" % V_th)\n",
    "\n",
    "# calculate width of the space charge region\n",
    "d_RLZ = np.sqrt(2 * epsilon_0 * epsilon_r_si * phi_s_st_inv / (e * NA)) # width of the space charge region\n",
    "print(\"The width of the space charge region is %.3f nm.\" % (d_RLZ * 1e9))"
   ]
  },
  {
   "cell_type": "code",
   "execution_count": 5,
   "metadata": {},
   "outputs": [
    {
     "name": "stdout",
     "output_type": "stream",
     "text": [
      "The weak inversion surface potential is 0.403 V.\n",
      "The width of the space charge region is 53.114 nm.\n"
     ]
    }
   ],
   "source": [
    "V_w_inv = phi_msc + phi_s_w_inv + \\\n",
    "    (np.sqrt(2 * e * epsilon_0 * epsilon_r_si *\n",
    "     NA * phi_s_w_inv) / C_is)  # Weak inversion surface potential\n",
    "print(\"The weak inversion surface potential is %.3f V.\" % V_w_inv)\n",
    "\n",
    "d_RLZ = np.sqrt(2 * epsilon_0 * epsilon_r_si * phi_s_w_inv /\n",
    "                (e * NA))  # width of the space charge region\n",
    "print(\"The width of the space charge region is %.3f nm.\" % (d_RLZ * 1e9))\n"
   ]
  },
  {
   "cell_type": "code",
   "execution_count": 6,
   "metadata": {},
   "outputs": [
    {
     "name": "stdout",
     "output_type": "stream",
     "text": [
      "------------------------Flat band--------------------------\n",
      "The surface charge is 0.000 C/m^2.\n",
      "The flat band area capacitance of the semiconductor is 1137.990 nF/cm^2.\n",
      "The total area capacitance is 264.924 nF/cm^2.\n",
      "---------------------Weak Inversion-------------------------\n",
      "The area charge in the semiconductor in weak inversion is -170.197 nC/cm^2.\n",
      "The area capacitance of the semiconductor in weak inversion is 196.707 nF/cm^2.\n",
      "The total area capacitance in weak inversion is 125.319 nF/cm^2.\n",
      "---------------------Strong Inversion-------------------------\n",
      "The charge in the semiconductor in strong inversion is -240.694 nC/cm^2.\n",
      "The area capacitance of the semiconductor in strong inversion is 139.093 nF/cm^2.\n",
      "The total area capacitance in strong inversion is 99.154 nF/cm^2.\n"
     ]
    }
   ],
   "source": [
    "print(\"------------------------Flat band--------------------------\")\n",
    "Q_sc = 0  # Surface charge is zero because the junction is in equilibrium\n",
    "print(\"The surface charge is %.3f C/m^2.\" % Q_sc)\n",
    "# flat band area capacitance of the semiconductor in F/m^2\n",
    "C_sc = np.sqrt(e * epsilon_0 * epsilon_r_si * (NA) / V_T)\n",
    "C_sc = C_sc * 1e-4  # flat band area capacitance of the semiconductor in F/cm^2\n",
    "print(\"The flat band area capacitance of the semiconductor is %.3f nF/cm^2.\" % (C_sc * 1e9))\n",
    "C_is_cm = C_is * 1e-4  # flat band area capacitance of the insulator in F/cm^2\n",
    "\n",
    "# put the two capacitances in parallel\n",
    "C_tot = 1 / (1 / C_sc + 1 / C_is_cm)  # total capacitance in F/cm^2\n",
    "print(\"The total area capacitance is %.3f nF/cm^2.\" % (C_tot * 1e9))\n",
    "\n",
    "print(\"---------------------Weak Inversion-------------------------\")\n",
    "# charge in the semiconductor region in weak inversion in C/m^2\n",
    "Q_sc_w_inv = - np.sqrt(2 * e * epsilon_0 * epsilon_r_si * NA * phi_s_w_inv)\n",
    "# charge in the semiconductor region in weak inversion in C/cm^2\n",
    "Q_sc_w_inv = Q_sc_w_inv * 1e-4\n",
    "print(\"The area charge in the semiconductor in weak inversion is %.3f nC/cm^2.\" % (Q_sc_w_inv * 1e9))\n",
    "\n",
    "# area capacitance of the semiconductor in weak inversion in F/m^2\n",
    "C_sc_w_inv = np.abs(np.sqrt(e * epsilon_0 * epsilon_r_si * (NA) / (2 * phi_s_w_inv)))\n",
    "# area capacitance of the semiconductor in weak inversion in F/cm^2\n",
    "C_sc_w_inv = C_sc_w_inv * 1e-4\n",
    "print(\"The area capacitance of the semiconductor in weak inversion is %.3f nF/cm^2.\" % (C_sc_w_inv * 1e9))\n",
    "\n",
    "# put the two capacitances in parallel\n",
    "C_tot_w_inv = 1 / (1 / C_sc_w_inv + 1 / C_is_cm)\n",
    "\n",
    "print(\"The total area capacitance in weak inversion is %.3f nF/cm^2.\" % (C_tot_w_inv * 1e9))\n",
    "\n",
    "print(\"---------------------Strong Inversion-------------------------\")\n",
    "# charge in the space charge region in strong inversion in C/m^2\n",
    "Q_sc_st_inv = - np.sqrt(2 * e * epsilon_0 * epsilon_r_si * NA * phi_s_st_inv)\n",
    "# charge in the space charge region in strong inversion in C/cm^2\n",
    "Q_sc_st_inv = Q_sc_st_inv * 1e-4\n",
    "print(\"The charge in the semiconductor in strong inversion is %.3f nC/cm^2.\" % (Q_sc_st_inv * 1e9))\n",
    "\n",
    "# area capacitance of the semiconductor in strong inversion in F/m^2\n",
    "# <<< CORRECTION >>> C_sc_st_inv is not 0, but rather calculated in the same way as C_sc_w_inv\n",
    "C_sc_st_inv = np.abs(np.sqrt(e * epsilon_0 * epsilon_r_si * (NA) / (2 * phi_s_st_inv)))\n",
    "# area capacitance of the semiconductor in strong inversion in F/cm^2\n",
    "C_sc_st_inv = C_sc_st_inv * 1e-4\n",
    "print(\"The area capacitance of the semiconductor in strong inversion is %.3f nF/cm^2.\" % (C_sc_st_inv * 1e9))\n",
    "\n",
    "# area capacitance of the semiconductor in strong inversion in F/cm^2\n",
    "C_tot_st_inv = 1 / (1 / C_sc_st_inv + 1 / C_is_cm)\n",
    "\n",
    "print(\"The total area capacitance in strong inversion is %.3f nF/cm^2.\" % (C_tot_st_inv * 1e9))\n"
   ]
  },
  {
   "cell_type": "code",
   "execution_count": 7,
   "metadata": {},
   "outputs": [
    {
     "name": "stdout",
     "output_type": "stream",
     "text": [
      "The electron diffusion constant is 1.727 mA/V^2.\n",
      "---------------------V_mos = 1.50 V-------------------------\n",
      "The drain current is 0.183 mA.\n",
      "The drain-source voltage is 0.460 V.\n",
      "---------------------V_mos = 2.25 V-------------------------\n",
      "The drain current is 1.265 mA.\n",
      "The drain-source voltage is 1.210 V.\n",
      "---------------------V_mos = 3.00 V-------------------------\n",
      "The drain current is 3.318 mA.\n",
      "The drain-source voltage is 1.960 V.\n"
     ]
    }
   ],
   "source": [
    "mu_n = 1000  # mobility of electrons in cm^2/Vs\n",
    "mu_n = mu_n * 1e-4  # mobility of electrons in m^2/Vs\n",
    "mu_p = 500  # mobility of holes in cm^2/Vs\n",
    "mu_p = mu_p * 1e-4  # mobility of holes in m^2/Vs\n",
    "omega_A = 1 # um\n",
    "omega_A = omega_A * 1e-6 # m\n",
    "L = 200 # nm\n",
    "L = L * 1e-9 # m\n",
    "\n",
    "V_st_inv = phi_msc + phi_s_st_inv + (np.sqrt(2 * e * epsilon_0 * epsilon_r_si * NA * phi_s_st_inv) / C_is) # Strong inversion voltage\n",
    "\n",
    "K_n = mu_n * epsilon_0 * epsilon_r_is / d_is * omega_A / L  # electron diffusion constant in A/V^2\n",
    "\n",
    "print(\"The electron diffusion constant is %.3f mA/V^2.\" % (K_n * 1e3))\n",
    "\n",
    "def I_D(V_mos):\n",
    "    return (K_n / 2 * np.power(V_mos - V_st_inv, 2))  # Drain current in A\n",
    "\n",
    "V_mos = [1.5, 2.25, 3]\n",
    "for V in V_mos:\n",
    "    I_D_V_Mos = I_D(V)\n",
    "    print(\"---------------------V_mos = %.2f V-------------------------\" % V)\n",
    "    print(\"The drain current is %.3f mA.\" % (I_D_V_Mos * 1e3))\n",
    "    V_DS = V - V_th\n",
    "    print(\"The drain-source voltage is %.3f V.\" % V_DS)\n"
   ]
  }
 ],
 "metadata": {
  "kernelspec": {
   "display_name": "Python 3.10.4 64-bit",
   "language": "python",
   "name": "python3"
  },
  "language_info": {
   "codemirror_mode": {
    "name": "ipython",
    "version": 3
   },
   "file_extension": ".py",
   "mimetype": "text/x-python",
   "name": "python",
   "nbconvert_exporter": "python",
   "pygments_lexer": "ipython3",
   "version": "3.10.4"
  },
  "orig_nbformat": 4,
  "vscode": {
   "interpreter": {
    "hash": "dc45171c171282d944abc355706c43262bb7776ad27e0cac7f993fefe41d524c"
   }
  }
 },
 "nbformat": 4,
 "nbformat_minor": 2
}
